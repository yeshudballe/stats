{
 "cells": [
  {
   "cell_type": "markdown",
   "id": "17fddab4",
   "metadata": {},
   "source": [
    "# Statistics Assignment\n",
    "## Theoretical and Practical Questions"
   ]
  },
  {
   "cell_type": "markdown",
   "id": "7292af12",
   "metadata": {},
   "source": [
    "### Question 1: Difference between Descriptive and Inferential Statistics\n",
    "Descriptive statistics summarize, organize, and present data in a meaningful way using tables, graphs, or measures like mean, median, mode, and standard deviation. Example: calculating average marks of students. Inferential statistics use a sample to make predictions or generalizations about a population, e.g., predicting election results from a survey. Descriptive tells 'what is,' inferential tells 'what could be.' Both are essential for understanding data and making informed decisions."
   ]
  },
  {
   "cell_type": "markdown",
   "id": "814e21b3",
   "metadata": {},
   "source": [
    "### Question 2: Sampling and Random vs Stratified Sampling\n",
    "Sampling is selecting a subset of a population to estimate characteristics of the whole population. Random sampling gives every individual equal chance (e.g., 50 students picked randomly). Stratified sampling divides the population into subgroups (strata) and samples proportionally from each group to ensure representation. Random may overlook minorities; stratified maintains their presence. Sampling reduces time and cost while providing reliable data for statistical inference."
   ]
  },
  {
   "cell_type": "markdown",
   "id": "bb109f9e",
   "metadata": {},
   "source": [
    "### Question 3: Mean, Median, and Mode\n",
    "Mean is arithmetic average, median is the middle value, and mode is the most frequent value. Mean shows overall trend but is sensitive to outliers. Median is robust against outliers, mode identifies common observations, especially in categorical data. Using all three together summarizes central tendency, helps detect anomalies, understand distribution, and guides decision-making in data analysis."
   ]
  },
  {
   "cell_type": "markdown",
   "id": "0133d543",
   "metadata": {},
   "source": [
    "### Question 4: Skewness and Kurtosis\n",
    "Skewness measures asymmetry; positive skew has a long right tail. Kurtosis measures peakedness; high kurtosis shows sharp peak and heavy tails, low kurtosis is flatter. Positive skew implies extreme high values pull mean right (mean > median > mode). Skewness and kurtosis help detect outliers, understand distribution shape, and guide appropriate statistical methods for analysis and forecasting."
   ]
  },
  {
   "cell_type": "code",
   "execution_count": null,
   "id": "b7e03c0e",
   "metadata": {},
   "outputs": [],
   "source": [
    "# Question 5: Compute Mean, Median, Mode\n",
    "from statistics import mean, median, mode\n",
    "\n",
    "numbers = [12, 15, 12, 18, 19, 12, 20, 22, 19, 19, 24, 24, 24, 26, 28]\n",
    "\n",
    "print('Mean:', mean(numbers))\n",
    "print('Median:', median(numbers))\n",
    "print('Mode:', mode(numbers))"
   ]
  },
  {
   "cell_type": "code",
   "execution_count": null,
   "id": "9f617122",
   "metadata": {},
   "outputs": [],
   "source": [
    "# Question 6: Covariance and Correlation\n",
    "import numpy as np\n",
    "\n",
    "list_x = [10, 20, 30, 40, 50]\n",
    "list_y = [15, 25, 35, 45, 60]\n",
    "\n",
    "covariance = np.cov(list_x, list_y)[0,1]\n",
    "correlation = np.corrcoef(list_x, list_y)[0,1]\n",
    "\n",
    "print('Covariance:', covariance)\n",
    "print('Correlation coefficient:', correlation)"
   ]
  },
  {
   "cell_type": "code",
   "execution_count": null,
   "id": "fb754953",
   "metadata": {},
   "outputs": [],
   "source": [
    "# Question 7: Boxplot and Outliers\n",
    "import matplotlib.pyplot as plt\n",
    "\n",
    "data = [12, 14, 14, 15, 18, 19, 19, 21, 22, 22, 23, 23, 24, 26, 29, 35]\n",
    "\n",
    "plt.boxplot(data)\n",
    "plt.title('Boxplot of Data')\n",
    "plt.show()\n",
    "\n",
    "# Outliers are points outside whiskers (Q1-1.5*IQR or Q3+1.5*IQR)"
   ]
  },
  {
   "cell_type": "markdown",
   "id": "f0f48c19-3a84-40c9-8798-2f6171d61885",
   "metadata": {},
   "source": [
    "Question 8: Covariance and Correlation in E-commerce Analysis\n",
    "Covariance measures directional relationship between variables: positive moves together, negative moves inversely. Correlation standardizes this to -1 to +1, showing strength and direction. A correlation near +1 is strong positive. Analysts use these metrics to understand how advertising spend affects sales, guide budget decisions, forecast performance, and evaluate trends in e-commerce data. Covariance shows direction; correlation allows comparison across datasets."
   ]
  },
  {
   "cell_type": "code",
   "execution_count": null,
   "id": "ebf716b2",
   "metadata": {},
   "outputs": [],
   "source": [
    "# Question 8: Correlation between Advertising Spend and Daily Sales\n",
    "advertising_spend = [200, 250, 300, 400, 500]\n",
    "daily_sales = [2200, 2450, 2750, 3200, 4000]\n",
    "\n",
    "correlation = np.corrcoef(advertising_spend, daily_sales)[0,1]\n",
    "print('Correlation coefficient:', correlation)"
   ]
  },
  {
   "cell_type": "markdown",
   "id": "1bbb0a5e-e2c5-45e0-ad3c-d00499a6f786",
   "metadata": {},
   "source": [
    "Question 9: Customer Satisfaction Data Analysis\n",
    "Summary statistics like mean, median, mode, and standard deviation describe central tendency and dispersion. Mean shows average satisfaction; standard deviation shows variability. Visualizations like histograms and boxplots reveal distribution shape, skewness, and outliers. Histograms display common score ranges; boxplots detect extremes. Combining these insights helps businesses understand customer sentiment, plan product launches, identify improvement areas, and make informed decisions based on data distribution."
   ]
  },
  {
   "cell_type": "code",
   "execution_count": null,
   "id": "48c0591a",
   "metadata": {},
   "outputs": [],
   "source": [
    "# Question 9: Histogram of Survey Scores\n",
    "survey_scores = [7, 8, 5, 9, 6, 7, 8, 9, 10, 4, 7, 6, 9, 8, 7]\n",
    "\n",
    "plt.hist(survey_scores, bins=range(4,12), edgecolor='black')\n",
    "plt.title('Histogram of Customer Survey Scores')\n",
    "plt.xlabel('Scores')\n",
    "plt.ylabel('Frequency')\n",
    "plt.show()"
   ]
  }
 ],
 "metadata": {
  "kernelspec": {
   "display_name": "Python 3 (ipykernel)",
   "language": "python",
   "name": "python3"
  },
  "language_info": {
   "codemirror_mode": {
    "name": "ipython",
    "version": 3
   },
   "file_extension": ".py",
   "mimetype": "text/x-python",
   "name": "python",
   "nbconvert_exporter": "python",
   "pygments_lexer": "ipython3",
   "version": "3.13.7"
  }
 },
 "nbformat": 4,
 "nbformat_minor": 5
}
